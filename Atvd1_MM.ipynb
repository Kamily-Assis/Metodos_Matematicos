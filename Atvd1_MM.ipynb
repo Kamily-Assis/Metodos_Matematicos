{
  "nbformat": 4,
  "nbformat_minor": 0,
  "metadata": {
    "colab": {
      "provenance": [],
      "collapsed_sections": [
        "ZHHINbwrfxTE"
      ]
    },
    "kernelspec": {
      "name": "python3",
      "display_name": "Python 3"
    },
    "language_info": {
      "name": "python"
    }
  },
  "cells": [
    {
      "cell_type": "markdown",
      "source": [
        "##*Aluna: Kamily Assis de Oliveira* (20220007356)"
      ],
      "metadata": {
        "id": "B5nXl0CoaP_E"
      }
    },
    {
      "cell_type": "markdown",
      "source": [
        "##Questões"
      ],
      "metadata": {
        "id": "ZHHINbwrfxTE"
      }
    },
    {
      "cell_type": "markdown",
      "source": [
        "1. Escreva um programa e envie ao arquivo fonte ou um link do mesmo, o qual tenha como ponto de partida uma função $a(n)$ que define o termo geral de uma sequência numérica $(a_n = a(n))$ (use $n$ como a variável do programa), que sejam fornecidos dois números naturais $(n_{\\text{min}})$ e $(n_{\\text{max}})$ que definem um intervalo $[n_{\\text{min}}, n_{\\text{max}}]$ para os índices “plotados” e que tenha duas opções exclusivas de execução:\n",
        "\n",
        "  (a) o usuário não sabe se a sequência é convergente para um limite\n",
        "$L$;\n",
        "\n",
        "  (b) o usuário sabe que a sequência é convergente para um limite $L$.\n",
        "\n",
        "      – Caso seja feita a escolha da opção (b), o usuario deve acrescentar também como entradas o valor do limite $L$, da tolerância ε, um ındice $N(ε)$ tais que $|a(n) − L| ≤ ε$, para todos os ındices $n$ com $n ≥ N(ε)$.\n",
        "\n"
      ],
      "metadata": {
        "id": "ZYo1G5En56zJ"
      }
    },
    {
      "cell_type": "markdown",
      "source": [
        "##Resolução"
      ],
      "metadata": {
        "id": "GhcbaePnf2uj"
      }
    },
    {
      "cell_type": "markdown",
      "source": [
        "biblioteca + simbolos"
      ],
      "metadata": {
        "id": "x_uIHVjG7Em3"
      }
    },
    {
      "cell_type": "code",
      "source": [
        "import sympy\n",
        "import numpy as np\n",
        "import matplotlib.pyplot as plt\n",
        "\n",
        "from sympy import limit_seq, symbols\n",
        "from sympy import *\n",
        "from sympy import symbols"
      ],
      "metadata": {
        "id": "GUUiRwKg7Djn"
      },
      "execution_count": null,
      "outputs": []
    },
    {
      "cell_type": "code",
      "source": [
        "n, x, y, z = sympy.symbols('n x y z')\n",
        "\n",
        "#teste\n",
        "x+y-(z/n)"
      ],
      "metadata": {
        "id": "sr6R3VympDGD",
        "colab": {
          "base_uri": "https://localhost:8080/",
          "height": 47
        },
        "outputId": "e188669f-80c0-4b17-eae8-9dcef3a07cdf"
      },
      "execution_count": null,
      "outputs": [
        {
          "output_type": "execute_result",
          "data": {
            "text/plain": [
              "x + y - z/n"
            ],
            "text/latex": "$\\displaystyle x + y - \\frac{z}{n}$"
          },
          "metadata": {},
          "execution_count": 59
        }
      ]
    },
    {
      "cell_type": "code",
      "source": [
        "#definindo constante de euler\n",
        "e = sympy.exp(1)\n",
        "\n",
        "#teste\n",
        "e"
      ],
      "metadata": {
        "colab": {
          "base_uri": "https://localhost:8080/",
          "height": 38
        },
        "id": "AmfdcEZVa8i_",
        "outputId": "47b994e6-4375-4e2c-9d40-f85fddcd9305"
      },
      "execution_count": null,
      "outputs": [
        {
          "output_type": "execute_result",
          "data": {
            "text/plain": [
              "E"
            ],
            "text/latex": "$\\displaystyle e$"
          },
          "metadata": {},
          "execution_count": 60
        }
      ]
    },
    {
      "cell_type": "code",
      "source": [
        "(n / (e **n))\n",
        "\n",
        "#teste -> 12/(2**2)\n",
        "#matematicamente funcional, mas a amostra gráfica está incorreta"
      ],
      "metadata": {
        "colab": {
          "base_uri": "https://localhost:8080/",
          "height": 38
        },
        "id": "W0zvgzQ3nqSD",
        "outputId": "13b92ee2-d0b5-4dc0-eef1-445dbfc225ad"
      },
      "execution_count": null,
      "outputs": [
        {
          "output_type": "execute_result",
          "data": {
            "text/plain": [
              "n*exp(-n)"
            ],
            "text/latex": "$\\displaystyle n e^{- n}$"
          },
          "metadata": {},
          "execution_count": 61
        }
      ]
    },
    {
      "cell_type": "markdown",
      "source": [
        "* Plotagem"
      ],
      "metadata": {
        "id": "PIycITzpkqfi"
      }
    },
    {
      "cell_type": "code",
      "source": [
        "def limite(funcao):\n",
        "  return limit_seq(funcao)"
      ],
      "metadata": {
        "id": "PduKk8p2cki9"
      },
      "execution_count": null,
      "outputs": []
    },
    {
      "cell_type": "code",
      "source": [
        "def plot_seq(termo_geral,n_min, n_max):\n",
        "  n_values = list(range(n_min, n_max+1))\n",
        "  a_values = [termo_geral.subs('n', i) for i in n_values]\n",
        "\n",
        "  for i, n in enumerate(n_values):\n",
        "        print(f'{n}, {a_values[i]}')\n",
        "\n",
        "  plt.scatter(n_values, a_values, marker = 'o')\n",
        "\n"
      ],
      "metadata": {
        "id": "W4_GDsXe6rCQ"
      },
      "execution_count": null,
      "outputs": []
    },
    {
      "cell_type": "markdown",
      "source": [
        "*Sem o cálculo do limite*"
      ],
      "metadata": {
        "id": "kF1LJabTOmxs"
      }
    },
    {
      "cell_type": "code",
      "source": [
        "def sequencia_an(n):\n",
        "    return n / np.exp(n)\n",
        "\n",
        "def plotar_grafico(nmin, nmax):\n",
        "    n_values = np.arange(nmin, nmax + 1)\n",
        "    an_values = sequencia_an(n_values)\n",
        "\n",
        "    plt.plot(n_values, an_values, label=r'$\\frac{n}{e^n}$')\n",
        "    plt.title('Gráfico da sequência $a_n = \\\\frac{n}{e^n}$')\n",
        "    plt.xlabel('n')\n",
        "    plt.ylabel('$a_n$')\n",
        "    plt.show()\n",
        "\n",
        "nmin = int(input(\"Digite o valor mínimo de n: \"))\n",
        "nmax = int(input(\"Digite o valor máximo de n: \"))\n",
        "\n",
        "plotar_grafico(nmin, nmax)"
      ],
      "metadata": {
        "colab": {
          "base_uri": "https://localhost:8080/",
          "height": 511
        },
        "id": "geHVj0B6LqU_",
        "outputId": "3172f4eb-b149-4a7f-c401-cbe17b51920b"
      },
      "execution_count": null,
      "outputs": [
        {
          "name": "stdout",
          "output_type": "stream",
          "text": [
            "Digite o valor mínimo de n: 5\n",
            "Digite o valor máximo de n: 4\n"
          ]
        },
        {
          "output_type": "display_data",
          "data": {
            "text/plain": [
              "<Figure size 640x480 with 1 Axes>"
            ],
            "image/png": "[encoded data removed]"
          },
          "metadata": {}
        }
      ]
    },
    {
      "cell_type": "markdown",
      "source": [
        "**Com o cálculo do limite**"
      ],
      "metadata": {
        "id": "6Sa75SEaOthi"
      }
    },
    {
      "cell_type": "code",
      "source": [
        "#sequência 2(h)\n",
        "def sequencia_a(n):\n",
        "    return n / np.exp(n)\n",
        "\n",
        "#calcula o limite da sequência\n",
        "def calcular_limite(n_values):\n",
        "    an_values = sequencia_a(n_values)\n",
        "    return np.max(np.abs(np.diff(an_values))) < 1e-6\n",
        "\n",
        "def plotar_grafico(nmin, nmax):\n",
        "    n_values = np.arange(nmin, nmax + 1)\n",
        "    an_values = sequencia_a(n_values)\n",
        "\n",
        "    plt.plot(n_values, an_values, label=r'$\\frac{n}{e^n}$')\n",
        "    plt.title('Gráfico da sequência $a_n = \\\\frac{n}{e^n}$')\n",
        "    plt.xlabel('n')\n",
        "    plt.ylabel('$a_n$')\n",
        "    plt.show()\n",
        "\n",
        "    #verifica se a sequência tem um limite\n",
        "    tem_limite = calcular_limite(n_values)\n",
        "    if tem_limite:\n",
        "        print(\"A sequência tem um limite.\")\n",
        "    else:\n",
        "        print(\"A sequência não tem um limite.\")\n",
        "\n",
        "#solicita entrada do usuário para nmin e nmax\n",
        "nmin = int(input(\"Digite o valor mínimo de n: \"))\n",
        "nmax = int(input(\"Digite o valor máximo de n: \"))\n",
        "\n",
        "#plota o gráfico\n",
        "plotar_grafico(nmin, nmax)\n"
      ],
      "metadata": {
        "colab": {
          "base_uri": "https://localhost:8080/",
          "height": 563
        },
        "id": "aFwx0ZDLMalD",
        "outputId": "86d5218e-41b1-4fab-8fe9-5298bc27e8a6"
      },
      "execution_count": null,
      "outputs": [
        {
          "name": "stdout",
          "output_type": "stream",
          "text": [
            "Digite o valor mínimo de n: 25\n",
            "Digite o valor máximo de n: 4536\n"
          ]
        },
        {
          "output_type": "stream",
          "name": "stderr",
          "text": [
            "<ipython-input-69-223c337a99a2>:3: RuntimeWarning: overflow encountered in exp\n",
            "  return n / np.exp(n)\n"
          ]
        },
        {
          "output_type": "display_data",
          "data": {
            "text/plain": [
              "<Figure size 640x480 with 1 Axes>"
            ],
            "image/png": "[encoded data removed]"
          },
          "metadata": {}
        },
        {
          "output_type": "stream",
          "name": "stdout",
          "text": [
            "A sequência tem um limite.\n"
          ]
        }
      ]
    },
    {
      "cell_type": "markdown",
      "source": [
        "**Com opções do usuário** (versão completa)"
      ],
      "metadata": {
        "id": "4sr5LuzwXhWT"
      }
    },
    {
      "cell_type": "code",
      "source": [
        "def sequencia_an(n):\n",
        "    return n / np.exp(n)\n",
        "\n",
        "def calcular_limite(n_values, limite, tolerancia):\n",
        "    an_values = sequencia_an(n_values)\n",
        "    diferenca = np.abs(an_values - limite)\n",
        "    return np.all(diferenca <= tolerancia)\n",
        "\n",
        "#1 - (i) tabela mostrando os pares (n, a(n)) para o intervalo\n",
        "def criar_tabela(n_values):\n",
        "    an_values = sequencia_an(n_values)\n",
        "    tabela = list(zip(n_values, an_values))\n",
        "    return tabela\n",
        "\n",
        "def plotar_grafico(nmin, nmax, opcao, limite=None, tolerancia=None):\n",
        "    n_values = np.arange(nmin, nmax + 1)\n",
        "    an_values = sequencia_an(n_values)\n",
        "\n",
        "    tabela = criar_tabela(n_values)\n",
        "    print(\"Tabela de pares (n, a(n)):\")\n",
        "    print(\"n\\t\\ta(n)\")\n",
        "    for n, an in tabela:\n",
        "        print(\"{}\\t\\t{}\".format(n, an))\n",
        "\n",
        "    #1 - (ii) figura que mostra os pares de forma discreta\n",
        "    plt.scatter(n_values, an_values, label=r'$\\frac{n}{e^n}$', marker='o')\n",
        "    plt.title('Gráfico da sequência $a_n = \\\\frac{n}{e^n}$')\n",
        "    plt.xlabel('n')\n",
        "    plt.ylabel('$a_n$')\n",
        "    plt.legend()\n",
        "\n",
        "    #1 - (iii) se b, acrescenta as retas horizontais para o intervalo\n",
        "    if opcao == 'b':\n",
        "        if limite is None or tolerancia is None:\n",
        "            print(\"Erro: Para a opção (b), você precisa fornecer o valor do limite e a tolerância.\")\n",
        "            return\n",
        "        plt.axhline(limite - tolerancia, color='r', linestyle='--', label='$L - \\epsilon$')\n",
        "        plt.axhline(limite, color='g', linestyle='--', label='$L$')\n",
        "        plt.axhline(limite + tolerancia, color='b', linestyle='--', label='$L + \\epsilon$')\n",
        "        plt.show()\n",
        "\n",
        "nmin = int(input(\"Digite o valor mínimo de n: \"))\n",
        "nmax = int(input(\"Digite o valor máximo de n: \"))\n",
        "opcao = input(\"Escolha a opção:\\n(a) Não sabe se a sequência é convergente para um limite.\\n(b) Sabe que a sequência é convergente para um limite.\\nDigite a opção (a ou b): \").lower()\n",
        "\n",
        "if opcao == 'a':\n",
        "    plotar_grafico(nmin, nmax, opcao)\n",
        "elif opcao == 'b':\n",
        "    limite = float(input(\"Digite o valor do limite (L): \"))\n",
        "    tolerancia = float(input(\"Digite o valor da tolerância (ε): \"))\n",
        "    plotar_grafico(nmin, nmax, opcao, limite, tolerancia)\n",
        "else:\n",
        "    print(\"Opção inválida. Por favor, escolha 'a' ou 'b'.\")\n"
      ],
      "metadata": {
        "colab": {
          "base_uri": "https://localhost:8080/",
          "height": 806
        },
        "id": "PCm5bZF6XhB1",
        "outputId": "be12b992-7ce3-4951-e3d5-bfeb484c6f84"
      },
      "execution_count": null,
      "outputs": [
        {
          "output_type": "stream",
          "name": "stdout",
          "text": [
            "Digite o valor mínimo de n: 23\n",
            "Digite o valor máximo de n: 33\n",
            "Escolha a opção:\n",
            "(a) Não sabe se a sequência é convergente para um limite.\n",
            "(b) Sabe que a sequência é convergente para um limite.\n",
            "Digite a opção (a ou b): a\n",
            "Tabela de pares (n, a(n)):\n",
            "n\t\ta(n)\n",
            "23\t\t2.3602323152914347e-09\n",
            "24\t\t9.060322906269835e-10\n",
            "25\t\t3.4719859662410047e-10\n",
            "26\t\t1.3283631472964644e-10\n",
            "27\t\t5.074727804655525e-11\n",
            "28\t\t1.936032029943257e-11\n",
            "29\t\t7.376630377393076e-12\n",
            "30\t\t2.807286890652052e-12\n",
            "31\t\t1.0671679036256928e-12\n",
            "32\t\t4.0525329757101367e-13\n",
            "33\t\t1.5374324278841212e-13\n"
          ]
        },
        {
          "output_type": "display_data",
          "data": {
            "text/plain": [
              "<Figure size 640x480 with 1 Axes>"
            ],
            "image/png": "[encoded data removed]"
          },
          "metadata": {}
        }
      ]
    }
  ]
}